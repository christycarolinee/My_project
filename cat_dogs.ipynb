{
 "cells": [
  {
   "cell_type": "code",
   "execution_count": 5,
   "metadata": {},
   "outputs": [
    {
     "name": "stderr",
     "output_type": "stream",
     "text": [
      "2024-06-11 23:27:14.092664: I tensorflow/core/platform/cpu_feature_guard.cc:210] This TensorFlow binary is optimized to use available CPU instructions in performance-critical operations.\n",
      "To enable the following instructions: AVX2 FMA, in other operations, rebuild TensorFlow with the appropriate compiler flags.\n"
     ]
    }
   ],
   "source": [
    "#\n",
    "# Classify cats and dogs\n",
    "# christy\n",
    "#\n",
    " \n",
    "import os\n",
    "import shutil\n",
    "import tensorflow as tf\n",
    "from tensorflow.keras.applications.resnet50 import ResNet50, preprocess_input, decode_predictions\n",
    "from tensorflow.keras.preprocessing import image\n",
    "import numpy as np"
   ]
  },
  {
   "cell_type": "code",
   "execution_count": 2,
   "metadata": {},
   "outputs": [],
   "source": [
    "#\n",
    "# Paths to the folders\n",
    "#\n",
    "input_folder = 'images'\n",
    "cat_folder   = 'images/cats'\n",
    "dog_folder   = 'images/dogs'\n",
    "#lemon_folder   = 'images/lemons'"
   ]
  },
  {
   "cell_type": "code",
   "execution_count": 6,
   "metadata": {},
   "outputs": [
    {
     "ename": "NameError",
     "evalue": "name 'ResNet50' is not defined",
     "output_type": "error",
     "traceback": [
      "\u001b[0;31m---------------------------------------------------------------------------\u001b[0m",
      "\u001b[0;31mNameError\u001b[0m                                 Traceback (most recent call last)",
      "Cell \u001b[0;32mIn[6], line 4\u001b[0m\n\u001b[1;32m      1\u001b[0m \u001b[38;5;66;03m#\u001b[39;00m\n\u001b[1;32m      2\u001b[0m \u001b[38;5;66;03m# Load pre-trained ResNet50 model + higher level layers\u001b[39;00m\n\u001b[1;32m      3\u001b[0m \u001b[38;5;66;03m#\u001b[39;00m\n\u001b[0;32m----> 4\u001b[0m model \u001b[38;5;241m=\u001b[39m \u001b[43mResNet50\u001b[49m(weights\u001b[38;5;241m=\u001b[39m\u001b[38;5;124m'\u001b[39m\u001b[38;5;124mimagenet\u001b[39m\u001b[38;5;124m'\u001b[39m)\n",
      "\u001b[0;31mNameError\u001b[0m: name 'ResNet50' is not defined"
     ]
    }
   ],
   "source": [
    "#\n",
    "# Load pre-trained ResNet50 model + higher level layers\n",
    "#\n",
    "model = ResNet50(weights='imagenet')"
   ]
  },
  {
   "cell_type": "code",
   "execution_count": 4,
   "metadata": {},
   "outputs": [],
   "source": [
    "#\n",
    "# List of known dog classes\n",
    "#\n",
    "lemon_classes = [\n",
    "    'lemon'\n",
    "]\n",
    "lemon_classes = [element.lower() for element in lemon_classes]\n",
    " \n",
    "cat_classes = [\n",
    "    'tabby', 'tiger_cat', 'Persian_cat', 'Siamese_cat', 'Egyptian_cat',\n",
    "    'cougar', 'lynx', 'leopard', 'snow_leopard', 'jaguar', 'lion', 'cheetah'\n",
    "]\n",
    "cat_classes = [element.lower() for element in cat_classes]\n",
    " \n",
    "dog_classes = [\n",
    "    'Chihuahua', 'Japanese_spaniel', 'Maltese_dog', 'Pekinese', 'Shih-Tzu', 'Blenheim_spaniel',\n",
    "    'papillon', 'toy_terrier', 'Rhodesian_ridgeback', 'Afghan_hound', 'basset', 'beagle',\n",
    "    'bloodhound', 'bluetick', 'black-and-tan_coonhound', 'Walker_hound', 'English_foxhound',\n",
    "    'redbone', 'borzoi', 'Irish_wolfhound', 'Italian_greyhound', 'whippet', 'Ibizan_hound',\n",
    "    'Norwegian_elkhound', 'otterhound', 'Saluki', 'Scottish_deerhound', 'Weimaraner',\n",
    "    'Staffordshire_bullterrier', 'American_Staffordshire_terrier', 'Bedlington_terrier',\n",
    "    'Border_terrier', 'Kerry_blue_terrier', 'Irish_terrier', 'Norfolk_terrier', 'Norwich_terrier',\n",
    "    'Yorkshire_terrier', 'wire-haired_fox_terrier', 'Lakeland_terrier', 'Sealyham_terrier',\n",
    "    'Airedale', 'cairn', 'Australian_terrier', 'Dandie_Dinmont', 'Boston_bull', 'miniature_schnauzer',\n",
    "    'giant_schnauzer', 'standard_schnauzer', 'Scotch_terrier', 'Tibetan_terrier', 'silky_terrier',\n",
    "    'soft-coated_wheaten_terrier', 'West_Highland_white_terrier', 'Lhasa', 'flat-coated_retriever',\n",
    "    'curly-coated_retriever', 'Golden_retriever', 'Labrador_retriever', 'Chesapeake_Bay_retriever',\n",
    "    'German_short-haired_pointer', 'vizsla', 'English_setter', 'Irish_setter', 'Gordon_setter',\n",
    "    'Brittany_spaniel', 'clumber', 'English_springer', 'Welsh_springer_spaniel', 'cocker_spaniel',\n",
    "    'Sussex_spaniel', 'Irish_water_spaniel', 'kuvasz', 'schipperke', 'groenendael', 'malinois',\n",
    "    'briard', 'kelpie', 'komondor', 'Old_English_sheepdog', 'Shetland_sheepdog', 'collie',\n",
    "    'Border_collie', 'Bouvier_des_Flandres', 'Rottweiler', 'German_shepherd', 'Doberman',\n",
    "    'miniature_pinscher', 'Greater_Swiss_Mountain_dog', 'Bernese_mountain_dog', 'Appenzeller',\n",
    "    'EntleBucher', 'boxer', 'bull_mastiff', 'Tibetan_mastiff', 'French_bulldog', 'Great_Dane',\n",
    "    'Saint_Bernard', 'Eskimo_dog', 'malamute', 'Siberian_husky', 'affenpinscher', 'basenji',\n",
    "    'pug', 'Leonberg', 'Newfoundland', 'Great_Pyrenees', 'Samoyed', 'Pomeranian', 'chow',\n",
    "    'keeshond', 'Brabancon_griffon', 'Pembroke', 'Cardigan', 'toy_poodle', 'miniature_poodle',\n",
    "    'standard_poodle', 'Mexican_hairless', 'dingo', 'dhole', 'African_hunting_dog'\n",
    "]\n",
    "dog_classes = [element.lower() for element in dog_classes]"
   ]
  },
  {
   "cell_type": "code",
   "execution_count": 12,
   "metadata": {},
   "outputs": [],
   "source": [
    "#\n",
    "# Function to classify an image\n",
    "#\n",
    "def classify_image(img_path):\n",
    "    img = image.load_img(img_path, target_size=(224, 224))\n",
    "    x = image.img_to_array(img)\n",
    "    x = np.expand_dims(x, axis=0)\n",
    "    x = preprocess_input(x)\n",
    " \n",
    "    preds = model.predict(x)\n",
    "    return decode_predictions(preds, top=1)[0][0][1]  # returns the class name"
   ]
  },
  {
   "cell_type": "code",
   "execution_count": 7,
   "metadata": {},
   "outputs": [
    {
     "ename": "NameError",
     "evalue": "name 'os' is not defined",
     "output_type": "error",
     "traceback": [
      "\u001b[0;31m---------------------------------------------------------------------------\u001b[0m",
      "\u001b[0;31mNameError\u001b[0m                                 Traceback (most recent call last)",
      "Cell \u001b[0;32mIn[7], line 4\u001b[0m\n\u001b[1;32m      1\u001b[0m \u001b[38;5;66;03m#\u001b[39;00m\n\u001b[1;32m      2\u001b[0m \u001b[38;5;66;03m# Process each image in the input folder\u001b[39;00m\n\u001b[1;32m      3\u001b[0m \u001b[38;5;66;03m#\u001b[39;00m\n\u001b[0;32m----> 4\u001b[0m \u001b[38;5;28;01mfor\u001b[39;00m filename \u001b[38;5;129;01min\u001b[39;00m \u001b[43mos\u001b[49m\u001b[38;5;241m.\u001b[39mlistdir(input_folder):\n\u001b[1;32m      5\u001b[0m     \u001b[38;5;28;01mif\u001b[39;00m filename\u001b[38;5;241m.\u001b[39mendswith((\u001b[38;5;124m'\u001b[39m\u001b[38;5;124m.jpg\u001b[39m\u001b[38;5;124m'\u001b[39m, \u001b[38;5;124m'\u001b[39m\u001b[38;5;124m.jpeg\u001b[39m\u001b[38;5;124m'\u001b[39m, \u001b[38;5;124m'\u001b[39m\u001b[38;5;124m.png\u001b[39m\u001b[38;5;124m'\u001b[39m)):  \u001b[38;5;66;03m# Check if the file is an image\u001b[39;00m\n\u001b[1;32m      6\u001b[0m         img_path \u001b[38;5;241m=\u001b[39m os\u001b[38;5;241m.\u001b[39mpath\u001b[38;5;241m.\u001b[39mjoin(input_folder, filename)\n",
      "\u001b[0;31mNameError\u001b[0m: name 'os' is not defined"
     ]
    }
   ],
   "source": [
    "#\n",
    "# Process each image in the input folder\n",
    "#\n",
    "for filename in os.listdir(input_folder):\n",
    "    if filename.endswith(('.jpg', '.jpeg', '.png')):  # Check if the file is an image\n",
    "        img_path = os.path.join(input_folder, filename)\n",
    "        print(f'Processing {filename}...')\n",
    "       \n",
    "        # Classify the image\n",
    "        classification = classify_image(img_path)\n",
    "        print(classification)\n",
    "        classification = classification.lower()\n",
    "        # Move the image to the appropriate folder\n",
    "        if classification in cat_classes:\n",
    "            shutil.move(img_path, os.path.join(cat_folder, filename))\n",
    "            print(f'{filename} moved to {cat_folder}')\n",
    "        elif classification in dog_classes:\n",
    "            shutil.move(img_path, os.path.join(dog_folder, filename))\n",
    "            print(f'{filename} moved to {dog_folder}')\n",
    "        elif classification in dog_classes:\n",
    "            shutil.move(img_path, os.path.join(dog_folder, filename))\n",
    "            print(f'{filename} moved to {dog_folder}')\n",
    "        elif classification in lemon_classes:\n",
    "            shutil.move(img_path, os.path.join(lemon_folder, filename))\n",
    "            print(f'{filename} moved to {lemon_folder}')\n",
    "        else:\n",
    "            print(f'{filename} is not a cat or dog.')\n",
    " \n",
    "print('Processing complete.')"
   ]
  }
 ],
 "metadata": {
  "kernelspec": {
   "display_name": "Python 3",
   "language": "python",
   "name": "python3"
  },
  "language_info": {
   "codemirror_mode": {
    "name": "ipython",
    "version": 3
   },
   "file_extension": ".py",
   "mimetype": "text/x-python",
   "name": "python",
   "nbconvert_exporter": "python",
   "pygments_lexer": "ipython3",
   "version": "3.12.2"
  }
 },
 "nbformat": 4,
 "nbformat_minor": 2
}
